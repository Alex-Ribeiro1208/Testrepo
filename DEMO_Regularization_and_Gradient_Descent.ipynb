{
    "cells": [
        {
            "cell_type": "markdown",
            "metadata": {},
            "source": "# Machine Learning Foundation\n\n## Section 2, Part d:  Regularization and Gradient Descent"
        },
        {
            "cell_type": "markdown",
            "metadata": {},
            "source": "## Introduction\n\nWe will begin with a short tutorial on regression, polynomial features, and regularization based on a very simple, sparse data set that contains a column of `x` data and associated `y` noisy data. The data file is called `X_Y_Sinusoid_Data.csv`. "
        },
        {
            "cell_type": "code",
            "execution_count": null,
            "metadata": {},
            "outputs": [],
            "source": "import os\ndata_path = ['data']"
        },
        {
            "cell_type": "markdown",
            "metadata": {
                "run_control": {
                    "marked": true
                }
            },
            "source": "## Question 1\n\n* Import the data. \n\n* Also generate approximately 100 equally spaced x data points over the range of 0 to 1. Using these points, calculate the y-data which represents the \"ground truth\" (the real function) from the equation: $y = sin(2\\pi x)$\n\n* Plot the sparse data (`x` vs `y`) and the calculated (\"real\") data.\n"
        },
        {
            "cell_type": "code",
            "execution_count": null,
            "metadata": {
                "jupyter": {
                    "outputs_hidden": false
                }
            },
            "outputs": [],
            "source": "import pandas as pd\nimport numpy as np\n\nfilepath = os.sep.join(data_path + ['X_Y_Sinusoid_Data.csv'])\ndata = pd.read_csv(filepath)\n\nX_real = np.linspace(0, 1.0, 100)\nY_real = np.sin(2 * np.pi * X_real)"
        },
        {
            "cell_type": "code",
            "execution_count": null,
            "metadata": {
                "ExecuteTime": {
                    "end_time": "2017-03-10T19:32:58.021116Z",
                    "start_time": "2017-03-10T14:32:58.015025-05:00"
                }
            },
            "outputs": [],
            "source": "import matplotlib.pyplot as plt\nimport seaborn as sns\n\n%matplotlib inline"
        },
        {
            "cell_type": "code",
            "execution_count": null,
            "metadata": {
                "ExecuteTime": {
                    "end_time": "2017-03-10T19:32:58.921638Z",
                    "start_time": "2017-03-10T14:32:58.668630-05:00"
                },
                "jupyter": {
                    "outputs_hidden": false
                }
            },
            "outputs": [],
            "source": "sns.set_style('white')\nsns.set_context('talk')\nsns.set_palette('dark')\n\n# Plot of the noisy (sparse)\nax = data.set_index('x')['y'].plot(ls='', marker='o', label='data')\nax.plot(X_real, Y_real, ls='--', marker='', label='real function')\n\nax.legend()\nax.set(xlabel='x data', ylabel='y data');\n"
        },
        {
            "cell_type": "markdown",
            "metadata": {},
            "source": "## Question 2\n\n\n* Using the `PolynomialFeatures` class from Scikit-learn's preprocessing library, create 20th order polynomial features.\n* Fit this data using linear regression. \n* Plot the resulting predicted value compared to the calculated data.\n\nNote that `PolynomialFeatures` requires either a dataframe (with one column, not a Series) or a 2D array of dimension (`X`, 1), where `X` is the length."
        },
        {
            "cell_type": "code",
            "execution_count": null,
            "metadata": {
                "ExecuteTime": {
                    "end_time": "2017-03-10T19:57:23.344020Z",
                    "start_time": "2017-03-10T14:57:23.057905-05:00"
                },
                "jupyter": {
                    "outputs_hidden": false
                }
            },
            "outputs": [],
            "source": "from sklearn.preprocessing import PolynomialFeatures\nfrom sklearn.linear_model import LinearRegression\n\n# Setup the polynomial features\ndegree = 20\npf = PolynomialFeatures(degree)\nlr = LinearRegression()\n\n# Extract the X- and Y- data from the dataframe \nX_data = data[['x']]\nY_data = data['y']\n\n# Create the features and fit the model\nX_poly = pf.fit_transform(X_data)\nlr = lr.fit(X_poly, Y_data)\nY_pred = lr.predict(X_poly)\n\n# Plot the result\nplt.plot(X_data, Y_data, marker='o', ls='', label='data', alpha=1)\nplt.plot(X_real, Y_real, ls='--', label='real function')\nplt.plot(X_data, Y_pred, marker='^', alpha=.5, label='predictions w/ polynomial features')\nplt.legend()\nax = plt.gca()\nax.set(xlabel='x data', ylabel='y data');\n"
        },
        {
            "cell_type": "markdown",
            "metadata": {},
            "source": "## Question 3\n\n* Perform the regression on using the data with polynomial features using ridge regression ($\\alpha$=0.001) and lasso regression ($\\alpha$=0.0001). \n* Plot the results, as was done in Question 1. \n* Also plot the magnitude of the coefficients obtained from these regressions, and compare them to those obtained from linear regression in the previous question. The linear regression coefficients will likely need a separate plot (or their own y-axis) due to their large magnitude. \n\nWhat does the comparatively large magnitude of the data tell you about the role of regularization?"
        },
        {
            "cell_type": "code",
            "execution_count": null,
            "metadata": {
                "ExecuteTime": {
                    "end_time": "2017-03-10T20:11:47.526408Z",
                    "start_time": "2017-03-10T15:11:47.216623-05:00"
                },
                "jupyter": {
                    "outputs_hidden": false
                }
            },
            "outputs": [],
            "source": "# Mute the sklearn warning about regularization\nimport warnings\nwarnings.filterwarnings('ignore', module='sklearn')\n\nfrom sklearn.linear_model import Ridge, Lasso\n\n# The ridge regression model\nrr = Ridge(alpha=0.001)\nrr = rr.fit(X_poly, Y_data)\nY_pred_rr = rr.predict(X_poly)\n\n# The lasso regression model\nlassor = Lasso(alpha=0.0001)\nlassor = lassor.fit(X_poly, Y_data)\nY_pred_lr = lassor.predict(X_poly)\n\n# The plot of the predicted values\nplt.plot(X_data, Y_data, marker='o', ls='', label='data')\nplt.plot(X_real, Y_real, ls='--', label='real function')\nplt.plot(X_data, Y_pred, label='linear regression', marker='^', alpha=.5)\nplt.plot(X_data, Y_pred_rr, label='ridge regression', marker='^', alpha=.5)\nplt.plot(X_data, Y_pred_lr, label='lasso regression', marker='^', alpha=.5)\n\nplt.legend()\n\nax = plt.gca()\nax.set(xlabel='x data', ylabel='y data');"
        },
        {
            "cell_type": "code",
            "execution_count": null,
            "metadata": {
                "jupyter": {
                    "outputs_hidden": false
                }
            },
            "outputs": [],
            "source": "# let's look at the absolute value of coefficients for each model\n\ncoefficients = pd.DataFrame()\ncoefficients['linear regression'] = lr.coef_.ravel()\ncoefficients['ridge regression'] = rr.coef_.ravel()\ncoefficients['lasso regression'] = lassor.coef_.ravel()\ncoefficients = coefficients.applymap(abs)\n\ncoefficients.describe()  # Huge difference in scale between non-regularized vs regularized regression"
        },
        {
            "cell_type": "code",
            "execution_count": null,
            "metadata": {
                "ExecuteTime": {
                    "end_time": "2017-03-10T20:39:37.722464Z",
                    "start_time": "2017-03-10T15:39:37.347911-05:00"
                },
                "jupyter": {
                    "outputs_hidden": false
                }
            },
            "outputs": [],
            "source": "colors = sns.color_palette()\n\n# Setup the dual y-axes\nax1 = plt.axes()\nax2 = ax1.twinx()\n\n# Plot the linear regression data\nax1.plot(lr.coef_.ravel(), \n         color=colors[0], marker='o', label='linear regression')\n\n# Plot the regularization data sets\nax2.plot(rr.coef_.ravel(), \n         color=colors[1], marker='o', label='ridge regression')\n\nax2.plot(lassor.coef_.ravel(), \n         color=colors[2], marker='o', label='lasso regression')\n\n# Customize axes scales\nax1.set_ylim(-2e14, 2e14)\nax2.set_ylim(-25, 25)\n\n# Combine the legends\nh1, l1 = ax1.get_legend_handles_labels()\nh2, l2 = ax2.get_legend_handles_labels()\nax1.legend(h1+h2, l1+l2)\n\nax1.set(xlabel='coefficients',ylabel='linear regression')\nax2.set(ylabel='ridge and lasso regression')\n\nax1.set_xticks(range(len(lr.coef_)));"
        },
        {
            "cell_type": "markdown",
            "metadata": {},
            "source": "## Question 4\n\nFor the remaining questions, we will be working with the [data set](https://www.kaggle.com/c/house-prices-advanced-regression-techniques) from last lesson, which is based on housing prices in Ames, Iowa. There are an extensive number of features--see the exercises from week three for a discussion of these features.\n\nTo begin:\n\n* Import the data with Pandas, remove any null values, and one hot encode categoricals. Either Scikit-learn's feature encoders or Pandas `get_dummies` method can be used.\n* Split the data into train and test sets. \n* Log transform skewed features. \n* Scaling can be attempted, although it can be interesting to see how well regularization works without scaling features."
        },
        {
            "cell_type": "code",
            "execution_count": null,
            "metadata": {
                "ExecuteTime": {
                    "end_time": "2017-03-10T17:01:04.174800Z",
                    "start_time": "2017-03-10T12:01:04.142735-05:00"
                }
            },
            "outputs": [],
            "source": "filepath = os.sep.join(data_path + ['Ames_Housing_Sales.csv'])\ndata = pd.read_csv(filepath, sep=',')"
        },
        {
            "cell_type": "markdown",
            "metadata": {
                "ExecuteTime": {
                    "end_time": "2017-03-10T02:40:49.956043Z",
                    "start_time": "2017-03-09T21:40:49.950878-05:00"
                }
            },
            "source": "Create a list of categorial data and one-hot encode. Pandas one-hot encoder (`get_dummies`) works well with data that is defined as a categorical."
        },
        {
            "cell_type": "code",
            "execution_count": null,
            "metadata": {
                "ExecuteTime": {
                    "end_time": "2017-03-10T17:01:05.304547Z",
                    "start_time": "2017-03-10T12:01:05.231567-05:00"
                },
                "jupyter": {
                    "outputs_hidden": false
                }
            },
            "outputs": [],
            "source": "# Get a Pd.Series consisting of all the string categoricals\none_hot_encode_cols = data.dtypes[data.dtypes == np.object]  # filtering by string categoricals\none_hot_encode_cols = one_hot_encode_cols.index.tolist()  # list of categorical fields\n\n# Here we see another way of one-hot-encoding:\n# Encode these columns as categoricals so one hot encoding works on split data (if desired)\nfor col in one_hot_encode_cols:\n    data[col] = pd.Categorical(data[col])\n\n# Do the one hot encoding\ndata = pd.get_dummies(data, columns=one_hot_encode_cols)"
        },
        {
            "cell_type": "markdown",
            "metadata": {},
            "source": "Next, split the data in train and test data sets."
        },
        {
            "cell_type": "code",
            "execution_count": null,
            "metadata": {
                "ExecuteTime": {
                    "end_time": "2017-03-10T17:01:06.260979Z",
                    "start_time": "2017-03-10T12:01:06.244259-05:00"
                }
            },
            "outputs": [],
            "source": "from sklearn.model_selection import train_test_split\n\ntrain, test = train_test_split(data, test_size=0.3, random_state=42)"
        },
        {
            "cell_type": "markdown",
            "metadata": {},
            "source": "There are a number of columns that have skewed features--a log transformation can be applied to them. Note that this includes the `SalePrice`, our predictor. However, let's keep that one as is."
        },
        {
            "cell_type": "code",
            "execution_count": null,
            "metadata": {},
            "outputs": [],
            "source": "# Create a list of float colums to check for skewing\nmask = data.dtypes == np.float\nfloat_cols = data.columns[mask]"
        },
        {
            "cell_type": "code",
            "execution_count": null,
            "metadata": {
                "ExecuteTime": {
                    "end_time": "2017-03-10T17:01:10.689590Z",
                    "start_time": "2017-03-10T12:01:10.609841-05:00"
                },
                "jupyter": {
                    "outputs_hidden": false
                }
            },
            "outputs": [],
            "source": "skew_limit = 0.75\nskew_vals = train[float_cols].skew()\n\nskew_cols = (skew_vals\n             .sort_values(ascending=False)\n             .to_frame()\n             .rename(columns={0:'Skew'})\n             .query('abs(Skew) > {0}'.format(skew_limit)))\n\nskew_cols"
        },
        {
            "cell_type": "markdown",
            "metadata": {},
            "source": "Transform all the columns where the skew is greater than 0.75, excluding \"SalePrice\"."
        },
        {
            "cell_type": "code",
            "execution_count": null,
            "metadata": {
                "jupyter": {
                    "outputs_hidden": false
                }
            },
            "outputs": [],
            "source": "# OPTIONAL: Let's look at what happens to one of these features, when we apply np.log1p visually.\n\nfield = \"BsmtFinSF1\"\nfig, (ax_before, ax_after) = plt.subplots(1, 2, figsize=(10, 5))\ntrain[field].hist(ax=ax_before)\ntrain[field].apply(np.log1p).hist(ax=ax_after)\nax_before.set(title='before np.log1p', ylabel='frequency', xlabel='value')\nax_after.set(title='after np.log1p', ylabel='frequency', xlabel='value')\nfig.suptitle('Field \"{}\"'.format(field));\n# a little bit better"
        },
        {
            "cell_type": "code",
            "execution_count": null,
            "metadata": {
                "ExecuteTime": {
                    "end_time": "2017-03-10T17:01:15.654621Z",
                    "start_time": "2017-03-10T12:01:13.780771-05:00"
                },
                "jupyter": {
                    "outputs_hidden": false
                }
            },
            "outputs": [],
            "source": "# Mute the setting wtih a copy warnings\npd.options.mode.chained_assignment = None\n\nfor col in skew_cols.index.tolist():\n    if col == \"SalePrice\":\n        continue\n    train[col] = np.log1p(train[col])\n    test[col]  = test[col].apply(np.log1p)  # same thing"
        },
        {
            "cell_type": "markdown",
            "metadata": {},
            "source": "Separate features from predictor."
        },
        {
            "cell_type": "code",
            "execution_count": null,
            "metadata": {
                "ExecuteTime": {
                    "end_time": "2017-03-10T17:01:21.972625Z",
                    "start_time": "2017-03-10T12:01:21.957050-05:00"
                },
                "jupyter": {
                    "outputs_hidden": false
                }
            },
            "outputs": [],
            "source": "feature_cols = [x for x in train.columns if x != 'SalePrice']\nX_train = train[feature_cols]\ny_train = train['SalePrice']\n\nX_test  = test[feature_cols]\ny_test  = test['SalePrice']"
        },
        {
            "cell_type": "markdown",
            "metadata": {
                "ExecuteTime": {
                    "end_time": "2017-02-21T09:11:03.256453",
                    "start_time": "2017-02-21T09:11:03.241117"
                }
            },
            "source": "## Question 5\n\n* Write a function **`rmse`** that takes in truth and prediction values and returns the root-mean-squared error. Use sklearn's `mean_squared_error`.  \n"
        },
        {
            "cell_type": "code",
            "execution_count": null,
            "metadata": {
                "jupyter": {
                    "outputs_hidden": false
                }
            },
            "outputs": [],
            "source": "from sklearn.metrics import mean_squared_error\n\n\ndef rmse(ytrue, ypredicted):\n    return np.sqrt(mean_squared_error(ytrue, ypredicted))"
        },
        {
            "cell_type": "markdown",
            "metadata": {},
            "source": "* Fit a basic linear regression model\n* print the root-mean-squared error for this model\n* plot the predicted vs actual sale price based on the model.  "
        },
        {
            "cell_type": "code",
            "execution_count": null,
            "metadata": {
                "jupyter": {
                    "outputs_hidden": false
                }
            },
            "outputs": [],
            "source": "from sklearn.linear_model import LinearRegression\n\nlinearRegression = LinearRegression().fit(X_train, y_train)\n\nlinearRegression_rmse = rmse(y_test, linearRegression.predict(X_test))\n\nprint(linearRegression_rmse)"
        },
        {
            "cell_type": "code",
            "execution_count": null,
            "metadata": {
                "jupyter": {
                    "outputs_hidden": false
                }
            },
            "outputs": [],
            "source": "f = plt.figure(figsize=(6,6))\nax = plt.axes()\n\nax.plot(y_test, linearRegression.predict(X_test), \n         marker='o', ls='', ms=3.0)\n\nlim = (0, y_test.max())\n\nax.set(xlabel='Actual Price', \n       ylabel='Predicted Price', \n       xlim=lim,\n       ylim=lim,\n       title='Linear Regression Results');"
        },
        {
            "cell_type": "markdown",
            "metadata": {},
            "source": "## Question 6\n\nRidge regression uses L2 normalization to reduce the magnitude of the coefficients. This can be helpful in situations where there is high variance. The regularization functions in Scikit-learn each contain versions that have cross-validation built in.\n\n* Fit a regular (non-cross validated) Ridge model to a range of $\\alpha$ values and plot the RMSE using the cross validated error function you created above.\n* Use $$[0.005, 0.05, 0.1, 0.3, 1, 3, 5, 10, 15, 30, 80]$$ as the range of alphas.\n* Then repeat the fitting of the Ridge models using the range of $\\alpha$ values from the prior section. Compare the results."
        },
        {
            "cell_type": "markdown",
            "metadata": {},
            "source": "Now for the `RidgeCV` method. It's not possible to get the alpha values for the models that weren't selected, unfortunately. The resulting error values and $\\alpha$ values are very similar to those obtained above."
        },
        {
            "cell_type": "code",
            "execution_count": null,
            "metadata": {
                "ExecuteTime": {
                    "end_time": "2017-02-21T09:48:27.914740",
                    "start_time": "2017-02-21T09:48:27.293957"
                },
                "jupyter": {
                    "outputs_hidden": false
                }
            },
            "outputs": [],
            "source": "from sklearn.linear_model import RidgeCV\n\nalphas = [0.005, 0.05, 0.1, 0.3, 1, 3, 5, 10, 15, 30, 80]\n\nridgeCV = RidgeCV(alphas=alphas, \n                  cv=4).fit(X_train, y_train)\n\nridgeCV_rmse = rmse(y_test, ridgeCV.predict(X_test))\n\nprint(ridgeCV.alpha_, ridgeCV_rmse)"
        },
        {
            "cell_type": "markdown",
            "metadata": {},
            "source": "## Question 7\n\n\nMuch like the `RidgeCV` function, there is also a `LassoCV` function that uses an L1 regularization function and cross-validation. L1 regularization will selectively shrink some coefficients, effectively performing feature elimination.\n\nThe `LassoCV` function does not allow the scoring function to be set. However, the custom error function (`rmse`) created above can be used to evaluate the error on the final model.\n\nSimilarly, there is also an elastic net function with cross validation, `ElasticNetCV`, which is a combination of L2 and L1 regularization.\n\n* Fit a Lasso model using cross validation and determine the optimum value for $\\alpha$ and the RMSE using the function created above. Note that the magnitude of $\\alpha$ may be different from the Ridge model.\n* Repeat this with the Elastic net model.\n* Compare the results via table and/or plot.\n\nUse the following alphas:  \n`[1e-5, 5e-5, 0.0001, 0.0005]`"
        },
        {
            "cell_type": "code",
            "execution_count": null,
            "metadata": {
                "ExecuteTime": {
                    "end_time": "2017-02-21T09:50:10.797247",
                    "start_time": "2017-02-21T09:50:09.006978"
                },
                "jupyter": {
                    "outputs_hidden": false
                }
            },
            "outputs": [],
            "source": "from sklearn.linear_model import LassoCV\n\nalphas2 = np.array([1e-5, 5e-5, 0.0001, 0.0005])\n\nlassoCV = LassoCV(alphas=alphas2,\n                  max_iter=5e4,\n                  cv=3).fit(X_train, y_train)\n\nlassoCV_rmse = rmse(y_test, lassoCV.predict(X_test))\n\nprint(lassoCV.alpha_, lassoCV_rmse)  # Lasso is slower"
        },
        {
            "cell_type": "markdown",
            "metadata": {},
            "source": "We can determine how many of these features remain non-zero."
        },
        {
            "cell_type": "code",
            "execution_count": null,
            "metadata": {
                "ExecuteTime": {
                    "end_time": "2017-02-21T09:50:13.053851",
                    "start_time": "2017-02-21T09:50:13.047466"
                },
                "jupyter": {
                    "outputs_hidden": false
                }
            },
            "outputs": [],
            "source": "print('Of {} coefficients, {} are non-zero with Lasso.'.format(len(lassoCV.coef_), \n                                                               len(lassoCV.coef_.nonzero()[0])))"
        },
        {
            "cell_type": "markdown",
            "metadata": {
                "ExecuteTime": {
                    "end_time": "2017-02-16T12:03:06.013488",
                    "start_time": "2017-02-16T12:03:06.007159"
                },
                "run_control": {
                    "marked": true
                }
            },
            "source": "Now try the elastic net, with the same alphas as in Lasso, and l1_ratios between 0.1 and 0.9"
        },
        {
            "cell_type": "code",
            "execution_count": null,
            "metadata": {
                "ExecuteTime": {
                    "end_time": "2017-02-21T09:51:07.592747",
                    "start_time": "2017-02-21T09:50:38.683133"
                },
                "jupyter": {
                    "outputs_hidden": false
                },
                "scrolled": true
            },
            "outputs": [],
            "source": "from sklearn.linear_model import ElasticNetCV\n\nl1_ratios = np.linspace(0.1, 0.9, 9)\n\nelasticNetCV = ElasticNetCV(alphas=alphas2, \n                            l1_ratio=l1_ratios,\n                            max_iter=1e4).fit(X_train, y_train)\nelasticNetCV_rmse = rmse(y_test, elasticNetCV.predict(X_test))\n\nprint(elasticNetCV.alpha_, elasticNetCV.l1_ratio_, elasticNetCV_rmse)"
        },
        {
            "cell_type": "markdown",
            "metadata": {},
            "source": "Comparing the RMSE calculation from all models is easiest in a table."
        },
        {
            "cell_type": "code",
            "execution_count": null,
            "metadata": {
                "ExecuteTime": {
                    "end_time": "2017-02-21T09:52:29.062678",
                    "start_time": "2017-02-21T09:52:28.998572"
                },
                "jupyter": {
                    "outputs_hidden": false
                }
            },
            "outputs": [],
            "source": "rmse_vals = [linearRegression_rmse, ridgeCV_rmse, lassoCV_rmse, elasticNetCV_rmse]\n\nlabels = ['Linear', 'Ridge', 'Lasso', 'ElasticNet']\n\nrmse_df = pd.Series(rmse_vals, index=labels).to_frame()\nrmse_df.rename(columns={0: 'RMSE'}, inplace=1)\nrmse_df"
        },
        {
            "cell_type": "markdown",
            "metadata": {},
            "source": "We can also make a plot of actual vs predicted housing prices as before."
        },
        {
            "cell_type": "code",
            "execution_count": null,
            "metadata": {
                "ExecuteTime": {
                    "end_time": "2017-02-21T09:53:54.142116",
                    "start_time": "2017-02-21T09:53:53.857081"
                },
                "jupyter": {
                    "outputs_hidden": false
                }
            },
            "outputs": [],
            "source": "f = plt.figure(figsize=(6,6))\nax = plt.axes()\n\nlabels = ['Ridge', 'Lasso', 'ElasticNet']\n\nmodels = [ridgeCV, lassoCV, elasticNetCV]\n\nfor mod, lab in zip(models, labels):\n    ax.plot(y_test, mod.predict(X_test), \n             marker='o', ls='', ms=3.0, label=lab)\n\n\nleg = plt.legend(frameon=True)\nleg.get_frame().set_edgecolor('black')\nleg.get_frame().set_linewidth(1.0)\n\nax.set(xlabel='Actual Price', \n       ylabel='Predicted Price', \n       title='Linear Regression Results');"
        },
        {
            "cell_type": "markdown",
            "metadata": {},
            "source": "## Question 8\n\nLet's explore Stochastic gradient descent in this exercise.  \nRecall that Linear models in general are sensitive to scaling.\nHowever, SGD is *very* sensitive to scaling.  \nMoreover, a high value of learning rate can cause the algorithm to diverge, whereas a too low value may take too long to converge.\n\n* Fit a stochastic gradient descent model without a regularization penalty (the relevant parameter is `penalty`).\n* Now fit stochastic gradient descent models with each of the three penalties (L2, L1, Elastic Net) using the parameter values determined by cross validation above. \n* Do not scale the data before fitting the model.  \n* Compare the results to those obtained without using stochastic gradient descent."
        },
        {
            "cell_type": "code",
            "execution_count": null,
            "metadata": {
                "jupyter": {
                    "outputs_hidden": false
                }
            },
            "outputs": [],
            "source": "# Import SGDRegressor and prepare the parameters\n\nfrom sklearn.linear_model import SGDRegressor\n\nmodel_parameters_dict = {\n    'Linear': {'penalty': 'none'},\n    'Lasso': {'penalty': 'l2',\n           'alpha': lassoCV.alpha_},\n    'Ridge': {'penalty': 'l1',\n           'alpha': ridgeCV_rmse},\n    'ElasticNet': {'penalty': 'elasticnet', \n                   'alpha': elasticNetCV.alpha_,\n                   'l1_ratio': elasticNetCV.l1_ratio_}\n}\n\nnew_rmses = {}\nfor modellabel, parameters in model_parameters_dict.items():\n    # following notation passes the dict items as arguments\n    SGD = SGDRegressor(**parameters)\n    SGD.fit(X_train, y_train)\n    new_rmses[modellabel] = rmse(y_test, SGD.predict(X_test))\n\nrmse_df['RMSE-SGD'] = pd.Series(new_rmses)\nrmse_df"
        },
        {
            "cell_type": "markdown",
            "metadata": {},
            "source": "Notice how high the error values are! The algorithm is diverging. This can be due to scaling and/or learning rate being too high. Let's adjust the learning rate and see what happens.\n\n* Pass in `eta0=1e-7` when creating the instance of `SGDClassifier`.\n* Re-compute the errors for all the penalties and compare."
        },
        {
            "cell_type": "code",
            "execution_count": null,
            "metadata": {
                "jupyter": {
                    "outputs_hidden": false
                }
            },
            "outputs": [],
            "source": "# Import SGDRegressor and prepare the parameters\n\nfrom sklearn.linear_model import SGDRegressor\n\nmodel_parameters_dict = {\n    'Linear': {'penalty': 'none'},\n    'Lasso': {'penalty': 'l2',\n           'alpha': lassoCV.alpha_},\n    'Ridge': {'penalty': 'l1',\n           'alpha': ridgeCV_rmse},\n    'ElasticNet': {'penalty': 'elasticnet', \n                   'alpha': elasticNetCV.alpha_,\n                   'l1_ratio': elasticNetCV.l1_ratio_}\n}\n\nnew_rmses = {}\nfor modellabel, parameters in model_parameters_dict.items():\n    # following notation passes the dict items as arguments\n    SGD = SGDRegressor(eta0=1e-7, **parameters)\n    SGD.fit(X_train, y_train)\n    new_rmses[modellabel] = rmse(y_test, SGD.predict(X_test))\n\nrmse_df['RMSE-SGD-learningrate'] = pd.Series(new_rmses)\nrmse_df"
        },
        {
            "cell_type": "markdown",
            "metadata": {},
            "source": "Now let's scale our training data and try again.\n\n* Fit a `MinMaxScaler` to `X_train` create a variable `X_train_scaled`.\n* Using the scaler, transform `X_test` and create a variable `X_test_scaled`. \n* Apply the same versions of SGD to them and compare the results. Don't pass in a eta0 this time."
        },
        {
            "cell_type": "code",
            "execution_count": null,
            "metadata": {
                "jupyter": {
                    "outputs_hidden": false
                }
            },
            "outputs": [],
            "source": "from sklearn.preprocessing import MinMaxScaler\n\nscaler = MinMaxScaler()\nX_train_scaled = scaler.fit_transform(X_train)\nX_test_scaled = scaler.transform(X_test)\n\nnew_rmses = {}\nfor modellabel, parameters in model_parameters_dict.items():\n    # following notation passes the dict items as arguments\n    SGD = SGDRegressor(**parameters)\n    SGD.fit(X_train_scaled, y_train)\n    new_rmses[modellabel] = rmse(y_test, SGD.predict(X_test_scaled))\n\nrmse_df['RMSE-SGD-scaled'] = pd.Series(new_rmses)\nrmse_df"
        },
        {
            "cell_type": "code",
            "execution_count": null,
            "metadata": {
                "jupyter": {
                    "outputs_hidden": false
                }
            },
            "outputs": [],
            "source": "from sklearn.preprocessing import MinMaxScaler\n\nscaler = MinMaxScaler()\nX_train_scaled = scaler.fit_transform(X_train)\nX_test_scaled = scaler.transform(X_test)\n\nnew_rmses = {}\nfor modellabel, parameters in model_parameters_dict.items():\n    # following notation passes the dict items as arguments\n    SGD = SGDRegressor(**parameters)\n    SGD.fit(X_train_scaled, y_train)\n    new_rmses[modellabel] = rmse(y_test, SGD.predict(X_test_scaled))\n\nrmse_df['RMSE-SGD-scaled'] = pd.Series(new_rmses)\nrmse_df"
        },
        {
            "cell_type": "markdown",
            "metadata": {},
            "source": "---\n### Machine Learning Foundation (C) 2020 IBM Corporation"
        }
    ],
    "metadata": {
        "kernelspec": {
            "display_name": "Python 3.7",
            "language": "python",
            "name": "python3"
        },
        "language_info": {
            "codemirror_mode": {
                "name": "ipython",
                "version": 3
            },
            "file_extension": ".py",
            "mimetype": "text/x-python",
            "name": "python",
            "nbconvert_exporter": "python",
            "pygments_lexer": "ipython3",
            "version": "3.7.9"
        }
    },
    "nbformat": 4,
    "nbformat_minor": 4
}