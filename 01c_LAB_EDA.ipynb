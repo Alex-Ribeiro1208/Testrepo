{
    "cells": [
        {
            "cell_type": "markdown",
            "metadata": {
                "run_control": {
                    "marked": true
                }
            },
            "source": "# Machine Learning Foundation\n\n## Section 1, Part c: EDA Lab"
        },
        {
            "cell_type": "markdown",
            "metadata": {
                "run_control": {
                    "marked": true
                }
            },
            "source": "## Introduction\n\nWe will be using the iris data set for this tutorial. This is a well-known data set containing iris species and sepal and petal measurements. The data we will use are in a file called `iris_data.csv` found in the [data](data/) directory."
        },
        {
            "cell_type": "code",
            "execution_count": 2,
            "metadata": {},
            "outputs": [],
            "source": "import os\nimport numpy as np\nimport pandas as pd"
        },
        {
            "cell_type": "markdown",
            "metadata": {
                "run_control": {
                    "marked": true
                }
            },
            "source": "## Question 1\n\nLoad the data from the file using the techniques learned today. Examine it.\n\nDetermine the following:\n\n* The number of data points (rows). (*Hint:* check out the dataframe `.shape` attribute.)\n* The column names. (*Hint:* check out the dataframe `.columns` attribute.)\n* The data types for each column. (*Hint:* check out the dataframe `.dtypes` attribute.)"
        },
        {
            "cell_type": "code",
            "execution_count": 9,
            "metadata": {
                "scrolled": true
            },
            "outputs": [
                {
                    "ename": "FileNotFoundError",
                    "evalue": "[Errno 2] File data//iris_data.csv does not exist: 'data//iris_data.csv'",
                    "output_type": "error",
                    "traceback": [
                        "\u001b[0;31m---------------------------------------------------------------------------\u001b[0m",
                        "\u001b[0;31mFileNotFoundError\u001b[0m                         Traceback (most recent call last)",
                        "\u001b[0;32m<ipython-input-9-92d2171ca816>\u001b[0m in \u001b[0;36m<module>\u001b[0;34m\u001b[0m\n\u001b[1;32m      1\u001b[0m \u001b[0mfilepath\u001b[0m \u001b[0;34m=\u001b[0m \u001b[0;34m'data//iris_data.csv'\u001b[0m\u001b[0;34m\u001b[0m\u001b[0;34m\u001b[0m\u001b[0m\n\u001b[0;32m----> 2\u001b[0;31m \u001b[0mdata\u001b[0m \u001b[0;34m=\u001b[0m \u001b[0mpd\u001b[0m\u001b[0;34m.\u001b[0m\u001b[0mread_csv\u001b[0m\u001b[0;34m(\u001b[0m\u001b[0mfilepath\u001b[0m\u001b[0;34m)\u001b[0m\u001b[0;34m\u001b[0m\u001b[0;34m\u001b[0m\u001b[0m\n\u001b[0m\u001b[1;32m      3\u001b[0m \u001b[0mdata\u001b[0m\u001b[0;34m.\u001b[0m\u001b[0mhead\u001b[0m\u001b[0;34m(\u001b[0m\u001b[0;34m)\u001b[0m\u001b[0;34m\u001b[0m\u001b[0;34m\u001b[0m\u001b[0m\n",
                        "\u001b[0;32m/opt/conda/envs/Python-3.7-main/lib/python3.7/site-packages/pandas/io/parsers.py\u001b[0m in \u001b[0;36mparser_f\u001b[0;34m(filepath_or_buffer, sep, delimiter, header, names, index_col, usecols, squeeze, prefix, mangle_dupe_cols, dtype, engine, converters, true_values, false_values, skipinitialspace, skiprows, skipfooter, nrows, na_values, keep_default_na, na_filter, verbose, skip_blank_lines, parse_dates, infer_datetime_format, keep_date_col, date_parser, dayfirst, cache_dates, iterator, chunksize, compression, thousands, decimal, lineterminator, quotechar, quoting, doublequote, escapechar, comment, encoding, dialect, error_bad_lines, warn_bad_lines, delim_whitespace, low_memory, memory_map, float_precision)\u001b[0m\n\u001b[1;32m    674\u001b[0m         )\n\u001b[1;32m    675\u001b[0m \u001b[0;34m\u001b[0m\u001b[0m\n\u001b[0;32m--> 676\u001b[0;31m         \u001b[0;32mreturn\u001b[0m \u001b[0m_read\u001b[0m\u001b[0;34m(\u001b[0m\u001b[0mfilepath_or_buffer\u001b[0m\u001b[0;34m,\u001b[0m \u001b[0mkwds\u001b[0m\u001b[0;34m)\u001b[0m\u001b[0;34m\u001b[0m\u001b[0;34m\u001b[0m\u001b[0m\n\u001b[0m\u001b[1;32m    677\u001b[0m \u001b[0;34m\u001b[0m\u001b[0m\n\u001b[1;32m    678\u001b[0m     \u001b[0mparser_f\u001b[0m\u001b[0;34m.\u001b[0m\u001b[0m__name__\u001b[0m \u001b[0;34m=\u001b[0m \u001b[0mname\u001b[0m\u001b[0;34m\u001b[0m\u001b[0;34m\u001b[0m\u001b[0m\n",
                        "\u001b[0;32m/opt/conda/envs/Python-3.7-main/lib/python3.7/site-packages/pandas/io/parsers.py\u001b[0m in \u001b[0;36m_read\u001b[0;34m(filepath_or_buffer, kwds)\u001b[0m\n\u001b[1;32m    446\u001b[0m \u001b[0;34m\u001b[0m\u001b[0m\n\u001b[1;32m    447\u001b[0m     \u001b[0;31m# Create the parser.\u001b[0m\u001b[0;34m\u001b[0m\u001b[0;34m\u001b[0m\u001b[0;34m\u001b[0m\u001b[0m\n\u001b[0;32m--> 448\u001b[0;31m     \u001b[0mparser\u001b[0m \u001b[0;34m=\u001b[0m \u001b[0mTextFileReader\u001b[0m\u001b[0;34m(\u001b[0m\u001b[0mfp_or_buf\u001b[0m\u001b[0;34m,\u001b[0m \u001b[0;34m**\u001b[0m\u001b[0mkwds\u001b[0m\u001b[0;34m)\u001b[0m\u001b[0;34m\u001b[0m\u001b[0;34m\u001b[0m\u001b[0m\n\u001b[0m\u001b[1;32m    449\u001b[0m \u001b[0;34m\u001b[0m\u001b[0m\n\u001b[1;32m    450\u001b[0m     \u001b[0;32mif\u001b[0m \u001b[0mchunksize\u001b[0m \u001b[0;32mor\u001b[0m \u001b[0miterator\u001b[0m\u001b[0;34m:\u001b[0m\u001b[0;34m\u001b[0m\u001b[0;34m\u001b[0m\u001b[0m\n",
                        "\u001b[0;32m/opt/conda/envs/Python-3.7-main/lib/python3.7/site-packages/pandas/io/parsers.py\u001b[0m in \u001b[0;36m__init__\u001b[0;34m(self, f, engine, **kwds)\u001b[0m\n\u001b[1;32m    878\u001b[0m             \u001b[0mself\u001b[0m\u001b[0;34m.\u001b[0m\u001b[0moptions\u001b[0m\u001b[0;34m[\u001b[0m\u001b[0;34m\"has_index_names\"\u001b[0m\u001b[0;34m]\u001b[0m \u001b[0;34m=\u001b[0m \u001b[0mkwds\u001b[0m\u001b[0;34m[\u001b[0m\u001b[0;34m\"has_index_names\"\u001b[0m\u001b[0;34m]\u001b[0m\u001b[0;34m\u001b[0m\u001b[0;34m\u001b[0m\u001b[0m\n\u001b[1;32m    879\u001b[0m \u001b[0;34m\u001b[0m\u001b[0m\n\u001b[0;32m--> 880\u001b[0;31m         \u001b[0mself\u001b[0m\u001b[0;34m.\u001b[0m\u001b[0m_make_engine\u001b[0m\u001b[0;34m(\u001b[0m\u001b[0mself\u001b[0m\u001b[0;34m.\u001b[0m\u001b[0mengine\u001b[0m\u001b[0;34m)\u001b[0m\u001b[0;34m\u001b[0m\u001b[0;34m\u001b[0m\u001b[0m\n\u001b[0m\u001b[1;32m    881\u001b[0m \u001b[0;34m\u001b[0m\u001b[0m\n\u001b[1;32m    882\u001b[0m     \u001b[0;32mdef\u001b[0m \u001b[0mclose\u001b[0m\u001b[0;34m(\u001b[0m\u001b[0mself\u001b[0m\u001b[0;34m)\u001b[0m\u001b[0;34m:\u001b[0m\u001b[0;34m\u001b[0m\u001b[0;34m\u001b[0m\u001b[0m\n",
                        "\u001b[0;32m/opt/conda/envs/Python-3.7-main/lib/python3.7/site-packages/pandas/io/parsers.py\u001b[0m in \u001b[0;36m_make_engine\u001b[0;34m(self, engine)\u001b[0m\n\u001b[1;32m   1112\u001b[0m     \u001b[0;32mdef\u001b[0m \u001b[0m_make_engine\u001b[0m\u001b[0;34m(\u001b[0m\u001b[0mself\u001b[0m\u001b[0;34m,\u001b[0m \u001b[0mengine\u001b[0m\u001b[0;34m=\u001b[0m\u001b[0;34m\"c\"\u001b[0m\u001b[0;34m)\u001b[0m\u001b[0;34m:\u001b[0m\u001b[0;34m\u001b[0m\u001b[0;34m\u001b[0m\u001b[0m\n\u001b[1;32m   1113\u001b[0m         \u001b[0;32mif\u001b[0m \u001b[0mengine\u001b[0m \u001b[0;34m==\u001b[0m \u001b[0;34m\"c\"\u001b[0m\u001b[0;34m:\u001b[0m\u001b[0;34m\u001b[0m\u001b[0;34m\u001b[0m\u001b[0m\n\u001b[0;32m-> 1114\u001b[0;31m             \u001b[0mself\u001b[0m\u001b[0;34m.\u001b[0m\u001b[0m_engine\u001b[0m \u001b[0;34m=\u001b[0m \u001b[0mCParserWrapper\u001b[0m\u001b[0;34m(\u001b[0m\u001b[0mself\u001b[0m\u001b[0;34m.\u001b[0m\u001b[0mf\u001b[0m\u001b[0;34m,\u001b[0m \u001b[0;34m**\u001b[0m\u001b[0mself\u001b[0m\u001b[0;34m.\u001b[0m\u001b[0moptions\u001b[0m\u001b[0;34m)\u001b[0m\u001b[0;34m\u001b[0m\u001b[0;34m\u001b[0m\u001b[0m\n\u001b[0m\u001b[1;32m   1115\u001b[0m         \u001b[0;32melse\u001b[0m\u001b[0;34m:\u001b[0m\u001b[0;34m\u001b[0m\u001b[0;34m\u001b[0m\u001b[0m\n\u001b[1;32m   1116\u001b[0m             \u001b[0;32mif\u001b[0m \u001b[0mengine\u001b[0m \u001b[0;34m==\u001b[0m \u001b[0;34m\"python\"\u001b[0m\u001b[0;34m:\u001b[0m\u001b[0;34m\u001b[0m\u001b[0;34m\u001b[0m\u001b[0m\n",
                        "\u001b[0;32m/opt/conda/envs/Python-3.7-main/lib/python3.7/site-packages/pandas/io/parsers.py\u001b[0m in \u001b[0;36m__init__\u001b[0;34m(self, src, **kwds)\u001b[0m\n\u001b[1;32m   1889\u001b[0m         \u001b[0mkwds\u001b[0m\u001b[0;34m[\u001b[0m\u001b[0;34m\"usecols\"\u001b[0m\u001b[0;34m]\u001b[0m \u001b[0;34m=\u001b[0m \u001b[0mself\u001b[0m\u001b[0;34m.\u001b[0m\u001b[0musecols\u001b[0m\u001b[0;34m\u001b[0m\u001b[0;34m\u001b[0m\u001b[0m\n\u001b[1;32m   1890\u001b[0m \u001b[0;34m\u001b[0m\u001b[0m\n\u001b[0;32m-> 1891\u001b[0;31m         \u001b[0mself\u001b[0m\u001b[0;34m.\u001b[0m\u001b[0m_reader\u001b[0m \u001b[0;34m=\u001b[0m \u001b[0mparsers\u001b[0m\u001b[0;34m.\u001b[0m\u001b[0mTextReader\u001b[0m\u001b[0;34m(\u001b[0m\u001b[0msrc\u001b[0m\u001b[0;34m,\u001b[0m \u001b[0;34m**\u001b[0m\u001b[0mkwds\u001b[0m\u001b[0;34m)\u001b[0m\u001b[0;34m\u001b[0m\u001b[0;34m\u001b[0m\u001b[0m\n\u001b[0m\u001b[1;32m   1892\u001b[0m         \u001b[0mself\u001b[0m\u001b[0;34m.\u001b[0m\u001b[0munnamed_cols\u001b[0m \u001b[0;34m=\u001b[0m \u001b[0mself\u001b[0m\u001b[0;34m.\u001b[0m\u001b[0m_reader\u001b[0m\u001b[0;34m.\u001b[0m\u001b[0munnamed_cols\u001b[0m\u001b[0;34m\u001b[0m\u001b[0;34m\u001b[0m\u001b[0m\n\u001b[1;32m   1893\u001b[0m \u001b[0;34m\u001b[0m\u001b[0m\n",
                        "\u001b[0;32mpandas/_libs/parsers.pyx\u001b[0m in \u001b[0;36mpandas._libs.parsers.TextReader.__cinit__\u001b[0;34m()\u001b[0m\n",
                        "\u001b[0;32mpandas/_libs/parsers.pyx\u001b[0m in \u001b[0;36mpandas._libs.parsers.TextReader._setup_parser_source\u001b[0;34m()\u001b[0m\n",
                        "\u001b[0;31mFileNotFoundError\u001b[0m: [Errno 2] File data//iris_data.csv does not exist: 'data//iris_data.csv'"
                    ]
                }
            ],
            "source": "filepath = 'data//iris_data.csv'\ndata = pd.read_csv(filepath)\ndata.head()"
        },
        {
            "cell_type": "code",
            "execution_count": 10,
            "metadata": {
                "ExecuteTime": {
                    "end_time": "2017-03-19T23:17:24.151607Z",
                    "start_time": "2017-03-19T19:17:24.105167-04:00"
                },
                "jupyter": {
                    "outputs_hidden": false
                },
                "run_control": {
                    "marked": true
                }
            },
            "outputs": [
                {
                    "ename": "NameError",
                    "evalue": "name 'data' is not defined",
                    "output_type": "error",
                    "traceback": [
                        "\u001b[0;31m---------------------------------------------------------------------------\u001b[0m",
                        "\u001b[0;31mNameError\u001b[0m                                 Traceback (most recent call last)",
                        "\u001b[0;32m<ipython-input-10-d50c14a47645>\u001b[0m in \u001b[0;36m<module>\u001b[0;34m\u001b[0m\n\u001b[1;32m     23\u001b[0m \u001b[0;31m### BEGIN SOLUTION\u001b[0m\u001b[0;34m\u001b[0m\u001b[0;34m\u001b[0m\u001b[0;34m\u001b[0m\u001b[0m\n\u001b[1;32m     24\u001b[0m \u001b[0;31m# Number of rows\u001b[0m\u001b[0;34m\u001b[0m\u001b[0;34m\u001b[0m\u001b[0;34m\u001b[0m\u001b[0m\n\u001b[0;32m---> 25\u001b[0;31m \u001b[0mprint\u001b[0m\u001b[0;34m(\u001b[0m\u001b[0mdata\u001b[0m\u001b[0;34m.\u001b[0m\u001b[0mshape\u001b[0m\u001b[0;34m[\u001b[0m\u001b[0;36m0\u001b[0m\u001b[0;34m]\u001b[0m\u001b[0;34m)\u001b[0m\u001b[0;34m\u001b[0m\u001b[0;34m\u001b[0m\u001b[0m\n\u001b[0m\u001b[1;32m     26\u001b[0m \u001b[0;34m\u001b[0m\u001b[0m\n\u001b[1;32m     27\u001b[0m \u001b[0;31m# Column names\u001b[0m\u001b[0;34m\u001b[0m\u001b[0;34m\u001b[0m\u001b[0;34m\u001b[0m\u001b[0m\n",
                        "\u001b[0;31mNameError\u001b[0m: name 'data' is not defined"
                    ]
                }
            ],
            "source": "# The code was removed by Watson Studio for sharing."
        },
        {
            "cell_type": "markdown",
            "metadata": {
                "run_control": {
                    "marked": true
                }
            },
            "source": "## Question 2\n\nExamine the species names and note that they all begin with 'Iris-'. Remove this portion of the name so the species name is shorter. \n\n*Hint:* there are multiple ways to do this, but you could use either the [string processing methods](http://pandas.pydata.org/pandas-docs/stable/text.html) or the [apply method](http://pandas.pydata.org/pandas-docs/stable/generated/pandas.Series.apply.html)."
        },
        {
            "cell_type": "code",
            "execution_count": 11,
            "metadata": {
                "ExecuteTime": {
                    "end_time": "2017-03-19T23:17:53.678316Z",
                    "start_time": "2017-03-19T19:17:53.660202-04:00"
                },
                "jupyter": {
                    "outputs_hidden": false
                },
                "run_control": {
                    "marked": true
                }
            },
            "outputs": [
                {
                    "ename": "NameError",
                    "evalue": "name 'data' is not defined",
                    "output_type": "error",
                    "traceback": [
                        "\u001b[0;31m---------------------------------------------------------------------------\u001b[0m",
                        "\u001b[0;31mNameError\u001b[0m                                 Traceback (most recent call last)",
                        "\u001b[0;32m<ipython-input-11-cbea7998cbb6>\u001b[0m in \u001b[0;36m<module>\u001b[0;34m\u001b[0m\n\u001b[1;32m      1\u001b[0m \u001b[0;31m### BEGIN SOLUTION\u001b[0m\u001b[0;34m\u001b[0m\u001b[0;34m\u001b[0m\u001b[0;34m\u001b[0m\u001b[0m\n\u001b[1;32m      2\u001b[0m \u001b[0;31m# The str method maps the following function to each entry as a string\u001b[0m\u001b[0;34m\u001b[0m\u001b[0;34m\u001b[0m\u001b[0;34m\u001b[0m\u001b[0m\n\u001b[0;32m----> 3\u001b[0;31m \u001b[0mdata\u001b[0m\u001b[0;34m[\u001b[0m\u001b[0;34m'species'\u001b[0m\u001b[0;34m]\u001b[0m \u001b[0;34m=\u001b[0m \u001b[0mdata\u001b[0m\u001b[0;34m.\u001b[0m\u001b[0mspecies\u001b[0m\u001b[0;34m.\u001b[0m\u001b[0mstr\u001b[0m\u001b[0;34m.\u001b[0m\u001b[0mreplace\u001b[0m\u001b[0;34m(\u001b[0m\u001b[0;34m'Iris-'\u001b[0m\u001b[0;34m,\u001b[0m \u001b[0;34m''\u001b[0m\u001b[0;34m)\u001b[0m\u001b[0;34m\u001b[0m\u001b[0;34m\u001b[0m\u001b[0m\n\u001b[0m\u001b[1;32m      4\u001b[0m \u001b[0;31m# alternatively\u001b[0m\u001b[0;34m\u001b[0m\u001b[0;34m\u001b[0m\u001b[0;34m\u001b[0m\u001b[0m\n\u001b[1;32m      5\u001b[0m \u001b[0;31m# data['species'] = data.species.apply(lambda r: r.replace('Iris-', ''))\u001b[0m\u001b[0;34m\u001b[0m\u001b[0;34m\u001b[0m\u001b[0;34m\u001b[0m\u001b[0m\n",
                        "\u001b[0;31mNameError\u001b[0m: name 'data' is not defined"
                    ]
                }
            ],
            "source": "### BEGIN SOLUTION\n# The str method maps the following function to each entry as a string\ndata['species'] = data.species.str.replace('Iris-', '')\n# alternatively\n# data['species'] = data.species.apply(lambda r: r.replace('Iris-', ''))\n\ndata.head()\n### END SOLUTION"
        },
        {
            "cell_type": "markdown",
            "metadata": {
                "run_control": {
                    "marked": true
                }
            },
            "source": "## Question 3\n\nDetermine the following:  \n* The number of each species present. (*Hint:* check out the series `.value_counts` method.)\n* The mean, median, and quantiles and ranges (max-min) for each petal and sepal measurement.\n\n*Hint:* for the last question, the `.describe` method does have median, but it's not called median. It's the *50%* quantile. `.describe` does not have range though, and in order to get the range, you will need to create a new entry in the `.describe` table, which is `max - min`."
        },
        {
            "cell_type": "code",
            "execution_count": null,
            "metadata": {
                "ExecuteTime": {
                    "end_time": "2017-03-19T23:20:16.483215Z",
                    "start_time": "2017-03-19T19:20:16.472865-04:00"
                },
                "jupyter": {
                    "outputs_hidden": false
                },
                "run_control": {
                    "marked": true
                }
            },
            "outputs": [],
            "source": "### BEGIN SOLUTION\n# One way to count each species\ndata.species.value_counts()"
        },
        {
            "cell_type": "code",
            "execution_count": null,
            "metadata": {
                "ExecuteTime": {
                    "end_time": "2017-03-19T23:21:17.085008Z",
                    "start_time": "2017-03-19T19:21:17.052339-04:00"
                },
                "jupyter": {
                    "outputs_hidden": false
                },
                "run_control": {
                    "marked": true
                }
            },
            "outputs": [],
            "source": "# Select just the rows desired from the 'describe' method and add in the 'median'\nstats_df = data.describe()\nstats_df = data.describe()\nstats_df.loc['range'] = stats_df.loc['max'] - stats_df.loc['min']\n\nout_fields = ['mean','25%','50%','75%', 'range']\nstats_df = stats_df.loc[out_fields]\nstats_df.rename({'50%': 'median'}, inplace=True)\nstats_df\n### END SOLUTION"
        },
        {
            "cell_type": "markdown",
            "metadata": {
                "run_control": {
                    "marked": true
                }
            },
            "source": "## Question 4\n\nCalculate the following **for each species** in a separate dataframe:\n\n* The mean of each measurement (sepal_length, sepal_width, petal_length, and petal_width).\n* The median of each of these measurements.\n\n*Hint:* you may want to use Pandas [`groupby` method](http://pandas.pydata.org/pandas-docs/stable/generated/pandas.DataFrame.groupby.html) to group by species before calculating the statistic.\n\nIf you finish both of these, try calculating both statistics (mean and median) in a single table (i.e. with a single groupby call). See the section of the Pandas documentation on [applying multiple functions at once](http://pandas.pydata.org/pandas-docs/stable/groupby.html#applying-multiple-functions-at-once) for a hint."
        },
        {
            "cell_type": "code",
            "execution_count": null,
            "metadata": {
                "ExecuteTime": {
                    "end_time": "2017-03-19T23:22:07.306171Z",
                    "start_time": "2017-03-19T19:22:07.286965-04:00"
                },
                "jupyter": {
                    "outputs_hidden": false
                }
            },
            "outputs": [],
            "source": "### BEGIN SOLUTION\n# The mean calculation\ndata.groupby('species').mean()"
        },
        {
            "cell_type": "code",
            "execution_count": null,
            "metadata": {
                "ExecuteTime": {
                    "end_time": "2017-03-19T23:22:11.479487Z",
                    "start_time": "2017-03-19T19:22:11.461725-04:00"
                },
                "jupyter": {
                    "outputs_hidden": false
                }
            },
            "outputs": [],
            "source": "# The median calculation\ndata.groupby('species').median()"
        },
        {
            "cell_type": "code",
            "execution_count": null,
            "metadata": {
                "jupyter": {
                    "outputs_hidden": false
                }
            },
            "outputs": [],
            "source": "# applying multiple functions at once - 2 methods\n\ndata.groupby('species').agg(['mean', 'median'])  # passing a list of recognized strings\ndata.groupby('species').agg([np.mean, np.median])  # passing a list of explicit aggregation functions"
        },
        {
            "cell_type": "code",
            "execution_count": null,
            "metadata": {
                "jupyter": {
                    "outputs_hidden": false
                }
            },
            "outputs": [],
            "source": "# If certain fields need to be aggregated differently, we can do:\nfrom pprint import pprint\n\nagg_dict = {field: ['mean', 'median'] for field in data.columns if field != 'species'}\nagg_dict['petal_length'] = 'max'\npprint(agg_dict)\ndata.groupby('species').agg(agg_dict)\n### END SOLUTION"
        },
        {
            "cell_type": "markdown",
            "metadata": {},
            "source": "## Question 5\n\nMake a scatter plot of `sepal_length` vs `sepal_width` using Matplotlib. Label the axes and give the plot a title."
        },
        {
            "cell_type": "code",
            "execution_count": null,
            "metadata": {
                "ExecuteTime": {
                    "end_time": "2017-03-19T23:23:36.914375Z",
                    "start_time": "2017-03-19T19:23:36.661322-04:00"
                }
            },
            "outputs": [],
            "source": "### BEGIN SOLUTION\nimport matplotlib.pyplot as plt\n%matplotlib inline"
        },
        {
            "cell_type": "code",
            "execution_count": null,
            "metadata": {
                "ExecuteTime": {
                    "end_time": "2017-03-19T23:24:28.081462Z",
                    "start_time": "2017-03-19T19:24:27.796364-04:00"
                },
                "jupyter": {
                    "outputs_hidden": false
                }
            },
            "outputs": [],
            "source": "# A simple scatter plot with Matplotlib\nax = plt.axes()\n\nax.scatter(data.sepal_length, data.sepal_width)\n\n# Label the axes\nax.set(xlabel='Sepal Length (cm)',\n       ylabel='Sepal Width (cm)',\n       title='Sepal Length vs Width');\n### END SOLUTION"
        },
        {
            "cell_type": "markdown",
            "metadata": {},
            "source": "## Question 6\n\nMake a histogram of any one of the four features. Label axes and title it as appropriate. "
        },
        {
            "cell_type": "code",
            "execution_count": null,
            "metadata": {
                "ExecuteTime": {
                    "end_time": "2017-03-19T23:25:31.330263Z",
                    "start_time": "2017-03-19T19:25:31.073251-04:00"
                },
                "jupyter": {
                    "outputs_hidden": false
                }
            },
            "outputs": [],
            "source": "### BEGIN SOLUTION\n# Using Matplotlib's plotting functionality\nax = plt.axes()\nax.hist(data.petal_length, bins=25);\n\nax.set(xlabel='Petal Length (cm)', \n       ylabel='Frequency',\n       title='Distribution of Petal Lengths');"
        },
        {
            "cell_type": "code",
            "execution_count": null,
            "metadata": {
                "ExecuteTime": {
                    "end_time": "2017-03-19T23:25:50.512748Z",
                    "start_time": "2017-03-19T19:25:50.199553-04:00"
                },
                "jupyter": {
                    "outputs_hidden": false
                }
            },
            "outputs": [],
            "source": "# Alternatively using Pandas plotting functionality\nax = data.petal_length.plot.hist(bins=25)\n\nax.set(xlabel='Petal Length (cm)', \n       ylabel='Frequency',\n       title='Distribution of Petal Lengths');\n### END SOLUTION"
        },
        {
            "cell_type": "markdown",
            "metadata": {},
            "source": "## Question 7\n\nNow create a single plot with histograms for each feature (`petal_width`, `petal_length`, `sepal_width`, `sepal_length`) overlayed. If you have time, next try to create four individual histogram plots in a single figure, where each plot contains one feature.\n\nFor some hints on how to do this with Pandas plotting methods, check out the [visualization guide](http://pandas.pydata.org/pandas-docs/version/0.18.1/visualization.html) for Pandas."
        },
        {
            "cell_type": "code",
            "execution_count": null,
            "metadata": {
                "ExecuteTime": {
                    "end_time": "2017-03-19T23:43:17.755648Z",
                    "start_time": "2017-03-19T19:43:16.540434-04:00"
                },
                "jupyter": {
                    "outputs_hidden": false
                }
            },
            "outputs": [],
            "source": "import seaborn as sns\nsns.set_context('notebook')\n### BEGIN SOLUTION\n# This uses the `.plot.hist` method\nax = data.plot.hist(bins=25, alpha=0.5)\nax.set_xlabel('Size (cm)');"
        },
        {
            "cell_type": "code",
            "execution_count": null,
            "metadata": {
                "ExecuteTime": {
                    "end_time": "2017-03-19T23:45:21.626484Z",
                    "start_time": "2017-03-19T19:45:20.896967-04:00"
                },
                "jupyter": {
                    "outputs_hidden": false
                }
            },
            "outputs": [],
            "source": "# To create four separate plots, use Pandas `.hist` method\naxList = data.hist(bins=25)\n\n# Add some x- and y- labels to first column and last row\nfor ax in axList.flatten():\n    if ax.is_last_row():\n        ax.set_xlabel('Size (cm)')\n        \n    if ax.is_first_col():\n        ax.set_ylabel('Frequency')\n### END SOLUTION"
        },
        {
            "cell_type": "markdown",
            "metadata": {},
            "source": "## Question 8\n\nUsing Pandas, make a boxplot of each petal and sepal measurement. Here is the documentation for [Pandas boxplot method](http://pandas.pydata.org/pandas-docs/version/0.18.1/visualization.html#visualization-box)."
        },
        {
            "cell_type": "code",
            "execution_count": null,
            "metadata": {
                "ExecuteTime": {
                    "end_time": "2017-03-19T23:46:49.431740Z",
                    "start_time": "2017-03-19T19:46:48.628206-04:00"
                },
                "jupyter": {
                    "outputs_hidden": false
                }
            },
            "outputs": [],
            "source": "### BEGIN SOLUTION\n# Here we have four separate plots\ndata.boxplot(by='species');\n### END SOLUTION"
        },
        {
            "cell_type": "markdown",
            "metadata": {},
            "source": "## Question 9\n\nNow make a single boxplot where the features are separated in the x-axis and species are colored with different hues. \n\n*Hint:* you may want to check the documentation for [Seaborn boxplots](http://seaborn.pydata.org/generated/seaborn.boxplot.html). \n\nAlso note that Seaborn is very picky about data format--for this plot to work, the input dataframe will need to be manipulated so that each row contains a single data point (a species, a measurement type, and the measurement value). Check out Pandas [stack](http://pandas.pydata.org/pandas-docs/stable/generated/pandas.DataFrame.stack.html) method as a starting place.\n\nHere is an example of a data format that will work:\n\n|   | species | measurement  | size |\n| - | ------- | ------------ | ---- |\n| 0\t| setosa  | sepal_length | 5.1  |\n| 1\t| setosa  | sepal_width  | 3.5  |"
        },
        {
            "cell_type": "code",
            "execution_count": null,
            "metadata": {
                "ExecuteTime": {
                    "end_time": "2017-03-19T23:47:59.324915Z",
                    "start_time": "2017-03-19T19:47:59.305538-04:00"
                },
                "jupyter": {
                    "outputs_hidden": false
                }
            },
            "outputs": [],
            "source": "### BEGIN SOLUTION\n# First we have to reshape the data so there is \n# only a single measurement in each column\n\nplot_data = (data\n             .set_index('species')\n             .stack()\n             .to_frame()\n             .reset_index()\n             .rename(columns={0:'size', 'level_1':'measurement'})\n            )\n\nplot_data.head()\n### END SOLUTION"
        },
        {
            "cell_type": "code",
            "execution_count": null,
            "metadata": {
                "ExecuteTime": {
                    "end_time": "2017-03-19T23:56:10.626307Z",
                    "start_time": "2017-03-19T19:56:10.092741-04:00"
                },
                "jupyter": {
                    "outputs_hidden": false
                }
            },
            "outputs": [],
            "source": "### BEGIN SOLUTION\n# Now plot the dataframe from above using Seaborn\n\nsns.set_style('white')\nsns.set_context('notebook')\nsns.set_palette('dark')\n\nf = plt.figure(figsize=(6,4))\nsns.boxplot(x='measurement', y='size', \n            hue='species', data=plot_data);\n### END SOLUTION"
        },
        {
            "cell_type": "markdown",
            "metadata": {},
            "source": "## Question 10\n\nMake a [pairplot](http://seaborn.pydata.org/generated/seaborn.pairplot.html) with Seaborn to examine the correlation between each of the measurements.\n\n*Hint:* this plot may look complicated, but it is actually only a single line of code. This is the power of Seaborn and dataframe-aware plotting! See the lecture notes for reference."
        },
        {
            "cell_type": "code",
            "execution_count": null,
            "metadata": {
                "ExecuteTime": {
                    "end_time": "2017-03-19T23:57:15.479069Z",
                    "start_time": "2017-03-19T19:57:13.075052-04:00"
                },
                "jupyter": {
                    "outputs_hidden": false
                }
            },
            "outputs": [],
            "source": "### BEGIN SOLUTION\nsns.set_context('talk')\nsns.pairplot(data, hue='species');\n### END SOLUTION"
        },
        {
            "cell_type": "markdown",
            "metadata": {},
            "source": "---\n### Machine Learning Foundation (C) 2020 IBM Corporation"
        }
    ],
    "metadata": {
        "anaconda-cloud": {},
        "kernelspec": {
            "display_name": "Python 3.7",
            "language": "python",
            "name": "python3"
        },
        "language_info": {
            "codemirror_mode": {
                "name": "ipython",
                "version": 3
            },
            "file_extension": ".py",
            "mimetype": "text/x-python",
            "name": "python",
            "nbconvert_exporter": "python",
            "pygments_lexer": "ipython3",
            "version": "3.7.9"
        }
    },
    "nbformat": 4,
    "nbformat_minor": 4
}